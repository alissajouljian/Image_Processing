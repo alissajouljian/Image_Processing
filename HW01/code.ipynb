{
 "cells": [
  {
   "cell_type": "markdown",
   "id": "ceceed27",
   "metadata": {},
   "source": [
    "# Task 0 "
   ]
  },
  {
   "cell_type": "code",
   "execution_count": 1,
   "id": "584e5577",
   "metadata": {},
   "outputs": [
    {
     "name": "stdout",
     "output_type": "stream",
     "text": [
      "n: 23\n",
      "id: 6\n"
     ]
    }
   ],
   "source": [
    "import os\n",
    "import math\n",
    "import requests\n",
    "\n",
    "# Function to calculate 'n' based on first and last names\n",
    "def calculate_n(first_name, last_name):\n",
    "    return len(first_name) + len(last_name) + (ord(last_name[0]) - ord('A'))\n",
    "\n",
    "# Function to calculate 'id' based on 'n'\n",
    "def calculate_id(n):\n",
    "    return round(-0.00165 * n**3 + 0.12384 * n**2 - 2.33779 * n + 14.1165)\n",
    "\n",
    "\n",
    "first_name = \"Alissa\"\n",
    "last_name = \"Jouljian\"\n",
    "\n",
    "# Calculate 'n' using the provided functions\n",
    "n = calculate_n(first_name, last_name)\n",
    "\n",
    "# Calculate 'id' using 'n'\n",
    "id = calculate_id(n)\n",
    "\n",
    "print(\"n:\", n)\n",
    "print(\"id:\", id)"
   ]
  },
  {
   "cell_type": "markdown",
   "id": "ef30bdc9",
   "metadata": {},
   "source": [
    "# Task 1"
   ]
  },
  {
   "cell_type": "code",
   "execution_count": 2,
   "id": "9abbdb9c",
   "metadata": {},
   "outputs": [],
   "source": [
    "import numpy as np\n",
    "from PIL import Image\n",
    "\n",
    "# Create an empty dictionary to store course data\n",
    "course_data = {}\n",
    "\n",
    "# Open the course data file ('kfu-s-93.crs') for reading\n",
    "with open('kfu-s-93.crs', 'r') as crs_file:\n",
    "    # Read each line in the file\n",
    "    for line in crs_file:\n",
    "        # Remove leading and trailing whitespace\n",
    "        line = line.strip()\n",
    "        # Check if the line is not empty\n",
    "        if line:\n",
    "            # Split the line into course_code and capacity\n",
    "            course_code, capacity = line.split()\n",
    "            # Convert capacity to an integer and store it in the dictionary\n",
    "            course_data[course_code] = int(capacity)\n",
    "\n",
    "# Create an empty list to store capacity values\n",
    "a = []\n",
    "\n",
    "for course_code, capacity in course_data.items():\n",
    "    a.append(capacity)\n",
    "\n",
    "N = len(a)\n",
    "\n",
    "# Define the value for white pixels\n",
    "white_pixel_value = 255\n",
    "\n",
    "binary_processor = np.full((N, N), white_pixel_value, dtype=np.uint8)\n",
    "image = Image.fromarray(binary_processor)\n"
   ]
  },
  {
   "cell_type": "code",
   "execution_count": 3,
   "id": "81c50d1e",
   "metadata": {},
   "outputs": [],
   "source": [
    "# Open the 'kfu-s-93.stu' file for reading\n",
    "with open('kfu-s-93.stu', 'r') as stu_file:\n",
    "    # Iterate through each line in the file\n",
    "    for line in stu_file:\n",
    "        # Remove leading and trailing whitespace from each line\n",
    "        line = line.strip()\n",
    "        # Check if the line is not empty\n",
    "        if line:\n",
    "            # Split the line into tokens\n",
    "            tokens = line.split()\n",
    "            # Check if there are exactly two tokens on the line\n",
    "            if len(tokens) == 2:\n",
    "                # Convert the tokens to integers and store them as (x, y)\n",
    "                x, y = map(int, tokens)\n",
    "                # Set the corresponding pixel in the binary_processor to 0 (black)\n",
    "                binary_processor[y, x] = 0\n",
    "\n",
    "# Create a PIL Image from the modified binary_processor\n",
    "image = Image.fromarray(binary_processor)\n",
    "\n",
    "# Save the image \n",
    "image.save('Image.png', format='PNG')\n"
   ]
  },
  {
   "cell_type": "markdown",
   "id": "abf7557d",
   "metadata": {},
   "source": [
    "# Task 2"
   ]
  },
  {
   "cell_type": "code",
   "execution_count": 4,
   "id": "483f2b1d",
   "metadata": {},
   "outputs": [
    {
     "data": {
      "text/plain": [
       "True"
      ]
     },
     "execution_count": 4,
     "metadata": {},
     "output_type": "execute_result"
    }
   ],
   "source": [
    "# Import necessary libraries\n",
    "import cv2\n",
    "import numpy as np\n",
    "\n",
    "# Load the input image ('Image.png') in grayscale mode\n",
    "image = cv2.imread('Image.png', cv2.IMREAD_GRAYSCALE)\n",
    "\n",
    "# Get the height and width of the image\n",
    "height, width = image.shape\n",
    "\n",
    "# Divide the image into left and right panels\n",
    "left_width = width // 2\n",
    "right_width = width - left_width\n",
    "\n",
    "left_panel = image[:, :left_width]\n",
    "right_panel = image[:, left_width:]\n",
    "\n",
    "# Combine the right panel and left panel to create a modified image\n",
    "modified_image = np.hstack((right_panel, left_panel))\n",
    "\n",
    "# Divide the modified image into top and bottom panels\n",
    "top_height = height // 2\n",
    "bottom_height = height - top_height\n",
    "\n",
    "top_panel = modified_image[:top_height, :]\n",
    "bottom_panel = modified_image[top_height:, :]\n",
    "\n",
    "# Combine the bottom panel and top panel to create the final image\n",
    "final_image = np.vstack((bottom_panel, top_panel))\n",
    "\n",
    "# Save the image \n",
    "cv2.imwrite('final.png', final_image)\n"
   ]
  },
  {
   "cell_type": "code",
   "execution_count": null,
   "id": "444985bd",
   "metadata": {},
   "outputs": [],
   "source": []
  }
 ],
 "metadata": {
  "kernelspec": {
   "display_name": "Python 3 (ipykernel)",
   "language": "python",
   "name": "python3"
  },
  "language_info": {
   "codemirror_mode": {
    "name": "ipython",
    "version": 3
   },
   "file_extension": ".py",
   "mimetype": "text/x-python",
   "name": "python",
   "nbconvert_exporter": "python",
   "pygments_lexer": "ipython3",
   "version": "3.11.3"
  }
 },
 "nbformat": 4,
 "nbformat_minor": 5
}
